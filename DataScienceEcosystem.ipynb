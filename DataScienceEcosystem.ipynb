{
 "cells": [
  {
   "cell_type": "markdown",
   "id": "5b9192c7",
   "metadata": {},
   "source": [
    "# Data Science Tools and Ecosystem"
   ]
  },
  {
   "cell_type": "markdown",
   "id": "43f41a6b",
   "metadata": {},
   "source": [
    "In this notebook, Data Science Tools and Ecosystem are summarized."
   ]
  },
  {
   "cell_type": "markdown",
   "id": "4398a3c2",
   "metadata": {},
   "source": [
    "**Objectives:**\n",
    "    \n",
    "    - List popular languages for Data Science\n",
    "    - List popular libraries for Data Science\n",
    "    - List Data Science tools\n",
    "    - Introduce arithmetic expression examples"
   ]
  },
  {
   "cell_type": "markdown",
   "id": "aeecfac4",
   "metadata": {},
   "source": [
    "Some of the popular languages that Data Scientists use are:"
   ]
  },
  {
   "cell_type": "markdown",
   "id": "04a7d7ba",
   "metadata": {},
   "source": [
    "1. R\n",
    "2. Python\n",
    "3. C"
   ]
  },
  {
   "cell_type": "markdown",
   "id": "5be48d6f",
   "metadata": {},
   "source": [
    "Some of the commonly used libraries used by Data Scientists include:\n",
    "1. Pandas\n",
    "2. NumPy\n",
    "3. Scikit-learn"
   ]
  },
  {
   "cell_type": "markdown",
   "id": "8136f805",
   "metadata": {},
   "source": [
    "| Data Science Tools |\n",
    "| ----- |\n",
    "| Jupyter Notebook |\n",
    "| Jupyter Lab |\n",
    "| RStudio |\n",
    "\n"
   ]
  },
  {
   "cell_type": "markdown",
   "id": "0687fc68",
   "metadata": {},
   "source": [
    "### Below are a few examples of evaluating arithmetic expressions in Python."
   ]
  },
  {
   "cell_type": "markdown",
   "id": "5f138600",
   "metadata": {},
   "source": [
    " This a simple arithmetic expression to mutiply then add integers."
   ]
  },
  {
   "cell_type": "code",
   "execution_count": 3,
   "id": "0ef91e0e",
   "metadata": {},
   "outputs": [
    {
     "data": {
      "text/plain": [
       "17"
      ]
     },
     "execution_count": 3,
     "metadata": {},
     "output_type": "execute_result"
    }
   ],
   "source": [
    "(3*4)+5"
   ]
  },
  {
   "cell_type": "markdown",
   "id": "9b86541c",
   "metadata": {},
   "source": [
    "This will convert 200 minutes to hours by diving by 60."
   ]
  },
  {
   "cell_type": "code",
   "execution_count": 7,
   "id": "42e1d93a",
   "metadata": {},
   "outputs": [
    {
     "name": "stdout",
     "output_type": "stream",
     "text": [
      "3.3333333333333335\n"
     ]
    }
   ],
   "source": [
    "min=200\n",
    "h=200/60\n",
    "print (h)"
   ]
  },
  {
   "cell_type": "markdown",
   "id": "f276fadf",
   "metadata": {},
   "source": [
    "## Author\n",
    "Regina Temiño Boes"
   ]
  },
  {
   "cell_type": "code",
   "execution_count": null,
   "id": "740102f4",
   "metadata": {},
   "outputs": [],
   "source": []
  }
 ],
 "metadata": {
  "kernelspec": {
   "display_name": "Python 3 (ipykernel)",
   "language": "python",
   "name": "python3"
  },
  "language_info": {
   "codemirror_mode": {
    "name": "ipython",
    "version": 3
   },
   "file_extension": ".py",
   "mimetype": "text/x-python",
   "name": "python",
   "nbconvert_exporter": "python",
   "pygments_lexer": "ipython3",
   "version": "3.11.4"
  }
 },
 "nbformat": 4,
 "nbformat_minor": 5
}
